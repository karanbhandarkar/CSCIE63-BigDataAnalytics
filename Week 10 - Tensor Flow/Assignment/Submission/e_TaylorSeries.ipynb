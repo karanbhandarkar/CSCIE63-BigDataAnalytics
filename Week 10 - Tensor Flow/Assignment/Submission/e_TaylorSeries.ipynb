{
 "cells": [
  {
   "cell_type": "code",
   "execution_count": 55,
   "metadata": {},
   "outputs": [
    {
     "name": "stdout",
     "output_type": "stream",
     "text": [
      "Start with e = 0\n",
      "Iteration: 1 changed e from: [ 0.]  to: [ 1.]\n",
      "Iteration: 2 changed e from: [ 1.]  to: [ 2.]\n",
      "Iteration: 3 changed e from: [ 2.]  to: [ 2.5]\n",
      "Iteration: 4 changed e from: [ 2.5]  to: [ 2.66666667]\n",
      "Iteration: 5 changed e from: [ 2.66666667]  to: [ 2.70833333]\n",
      "Iteration: 6 changed e from: [ 2.70833333]  to: [ 2.71666667]\n",
      "Iteration: 7 changed e from: [ 2.71666667]  to: [ 2.71805556]\n",
      "Iteration: 8 changed e from: [ 2.71805556]  to: [ 2.71825397]\n",
      "Iteration: 9 changed e from: [ 2.71825397]  to: [ 2.71827877]\n",
      "Iteration: 10 changed e from: [ 2.71827877]  to: [ 2.71828153]\n",
      "Iteration: 11 changed e from: [ 2.71828153]  to: [ 2.7182818]\n",
      "Iteration: 12 changed e from: [ 2.7182818]  to: [ 2.71828183]\n",
      "Iteration: 13 changed e from: [ 2.71828183]  to: [ 2.71828183]\n",
      "Iteration: 14 changed e from: [ 2.71828183]  to: [ 2.71828183]\n",
      "Iteration: 15 changed e from: [ 2.71828183]  to: [ 2.71828183]\n",
      "Iteration: 16 changed e from: [ 2.71828183]  to: [ 2.71828183]\n",
      "Iteration: 17 changed e from: [ 2.71828183]  to: [ 2.71828183]\n",
      "Iteration: 18 changed e from: [ 2.71828183]  to: [ 2.71828183]\n",
      "Iteration: 19 changed e from: [ 2.71828183]  to: [ 2.71828183]\n",
      "Iteration: 20 changed e from: [ 2.71828183]  to: [ 2.71828183]\n"
     ]
    }
   ],
   "source": [
    "import tensorflow as tf\n",
    "import math\n",
    "\n",
    "with tf.Graph().as_default() as g:\n",
    "    \n",
    "    # We start with e = 1, for n = 0, and add to it\n",
    "    print('Start with e = 0')\n",
    "    e = tf.Variable([0.0], dtype=tf.float64, name='e_value')\n",
    "    prev_e = tf.Variable([0.0], dtype=tf.float64, name='prev_e_value')\n",
    "    one = tf.Variable([1], dtype=tf.float64, name = 'one_value')\n",
    "    \n",
    "    init = tf.global_variables_initializer()  # an operation, initializes all\n",
    "    with tf.Session() as sess:\n",
    "        sess.run(init)       # run init operation, initialize all\n",
    "\n",
    "        for step in range(20):\n",
    "            \n",
    "            # Keep track of previous value of e\n",
    "            assign_op = tf.assign(prev_e, e)\n",
    "            sess.run(assign_op)\n",
    "            \n",
    "            # We need to calculate the next value from the series\n",
    "            next_e = tf.divide(one,math.factorial(step))\n",
    "            \n",
    "            # And add the result back to e_value using tf.add()\n",
    "            e = e+next_e\n",
    "            \n",
    "            sess.run(next_e)\n",
    "            print('Iteration:',step+1,'changed e from:',sess.run(prev_e),' to:',sess.run(e))\n",
    "\n",
    "    file_writer = tf.summary.FileWriter(\"e_TaylorSeries\", sess.graph)\n",
    "    file_writer.close()\n",
    "    sess.close()\n",
    "    "
   ]
  }
 ],
 "metadata": {
  "kernelspec": {
   "display_name": "Python 3",
   "language": "python",
   "name": "python3"
  },
  "language_info": {
   "codemirror_mode": {
    "name": "ipython",
    "version": 3
   },
   "file_extension": ".py",
   "mimetype": "text/x-python",
   "name": "python",
   "nbconvert_exporter": "python",
   "pygments_lexer": "ipython3",
   "version": "3.5.2"
  }
 },
 "nbformat": 4,
 "nbformat_minor": 2
}
