{
 "cells": [
  {
   "cell_type": "code",
   "execution_count": 12,
   "metadata": {},
   "outputs": [
    {
     "name": "stdout",
     "output_type": "stream",
     "text": [
      "Start with e = 0\n",
      "Derived value of e as: [ 2.7182818]  for a large enough n: [  1.00000000e+08]\n"
     ]
    }
   ],
   "source": [
    "import tensorflow as tf\n",
    "import math\n",
    "\n",
    "with tf.Graph().as_default() as g:\n",
    "    \n",
    "    # We start with e = 1, for n = 0, and add to it\n",
    "    print('Start with e = 0')\n",
    "    e = tf.Variable([0.0], dtype=tf.float64, name='e_value')\n",
    "    one = tf.Variable([1], dtype=tf.float64, name = 'one_value')\n",
    "    n = tf.Variable([100000000], dtype=tf.float64, name = 'n_value')\n",
    "    \n",
    "    init = tf.global_variables_initializer()  # an operation, initializes all\n",
    "    with tf.Session() as sess:\n",
    "        sess.run(init)       # run init operation, initialize all\n",
    "            \n",
    "        # We need to calculate the next value from the series\n",
    "        e = tf.pow((one + tf.divide(one,n)),n)\n",
    "\n",
    "        sess.run(e)\n",
    "        print('Derived value of e as:',sess.run(e),' for a large enough n:',sess.run(n))\n",
    "\n",
    "    file_writer = tf.summary.FileWriter(\"e_Expression\", sess.graph)\n",
    "    file_writer.close()\n",
    "    sess.close()\n",
    "    "
   ]
  }
 ],
 "metadata": {
  "kernelspec": {
   "display_name": "Python 3",
   "language": "python",
   "name": "python3"
  },
  "language_info": {
   "codemirror_mode": {
    "name": "ipython",
    "version": 3
   },
   "file_extension": ".py",
   "mimetype": "text/x-python",
   "name": "python",
   "nbconvert_exporter": "python",
   "pygments_lexer": "ipython3",
   "version": "3.5.2"
  }
 },
 "nbformat": 4,
 "nbformat_minor": 2
}
