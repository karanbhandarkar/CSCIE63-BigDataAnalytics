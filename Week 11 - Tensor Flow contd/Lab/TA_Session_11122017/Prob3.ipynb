{
 "cells": [
  {
   "cell_type": "code",
   "execution_count": 19,
   "metadata": {
    "collapsed": true,
    "inputHidden": false,
    "outputHidden": false
   },
   "outputs": [],
   "source": [
    "import tensorflow as tf"
   ]
  },
  {
   "cell_type": "code",
   "execution_count": 20,
   "metadata": {
    "inputHidden": false,
    "outputHidden": false
   },
   "outputs": [
    {
     "name": "stdout",
     "output_type": "stream",
     "text": [
      "n:  1, sum of series: 1.000000000\n",
      "n:  2, sum of series: 2.000000000\n",
      "n:  3, sum of series: 2.500000000\n",
      "n:  4, sum of series: 2.666666667\n",
      "n:  5, sum of series: 2.708333333\n",
      "n:  6, sum of series: 2.716666667\n",
      "n:  7, sum of series: 2.718055556\n",
      "n:  8, sum of series: 2.718253968\n",
      "n:  9, sum of series: 2.718278770\n",
      "n: 10, sum of series: 2.718281526\n",
      "n: 11, sum of series: 2.718281801\n",
      "n: 12, sum of series: 2.718281826\n",
      "n: 13, sum of series: 2.718281828\n",
      "n: 14, sum of series: 2.718281828\n"
     ]
    }
   ],
   "source": [
    "# approximation via Taylor Series\n",
    "n = 14\n",
    "graph = tf.Graph()\n",
    "with graph.as_default():\n",
    "    with tf.name_scope('data') as scope:\n",
    "        X = tf.ones([n], dtype=tf.float64, name='X')\n",
    "        R = tf.range(n, dtype=tf.float64, name='range')\n",
    "    with tf.name_scope('series') as scope:\n",
    "        with tf.name_scope('numerator'):\n",
    "            NUM = tf.pow(X, R, name='numerator')\n",
    "        with tf.name_scope('denominator'):\n",
    "            # factorial; exp(log(gamma(n-1+1)))\n",
    "            DOM = tf.exp(tf.lgamma(R + 1), name='denominator')\n",
    "        with tf.name_scope('divide'):\n",
    "            SERIES = NUM / DOM\n",
    "    with tf.name_scope('ans') as scope:\n",
    "        ANS = tf.cumsum(SERIES)\n",
    "        \n",
    "    with tf.Session() as sess:\n",
    "        file_writer = tf.summary.FileWriter(\"outputSeries\", sess.graph)\n",
    "        series = sess.run(ANS)\n",
    "        for i in range(len(series)):\n",
    "            print(f\"n: {i+1:2}, sum of series: {series[i]:.9f}\")"
   ]
  },
  {
   "cell_type": "code",
   "execution_count": 21,
   "metadata": {
    "inputHidden": false,
    "outputHidden": false
   },
   "outputs": [
    {
     "name": "stdout",
     "output_type": "stream",
     "text": [
      "n: 100000, approx: 2.7182682371922975\n"
     ]
    }
   ],
   "source": [
    "# Approximation via limit\n",
    "n = 100000\n",
    "graph = tf.Graph()\n",
    "with graph.as_default():\n",
    "    with tf.name_scope('data') as scope:\n",
    "        ONE = tf.constant(1,\n",
    "                        dtype=tf.float64,\n",
    "                        name='one')\n",
    "        N = tf.constant(n, \n",
    "                       dtype=tf.float64,\n",
    "                       name='N')\n",
    "    with tf.name_scope('limit') as scope:\n",
    "        LIM = tf.pow(ONE + (ONE/N), N)\n",
    "        \n",
    "    with tf.Session() as sess:\n",
    "        file_writer = tf.summary.FileWriter(\"outputLIM\", sess.graph)\n",
    "        print(f\"n: {n}, approx: {sess.run(LIM)}\")"
   ]
  }
 ],
 "metadata": {
  "kernel_info": {
   "name": "python3"
  },
  "kernelspec": {
   "display_name": "Python 3",
   "language": "python",
   "name": "python3"
  },
  "language_info": {
   "codemirror_mode": {
    "name": "ipython",
    "version": 3
   },
   "file_extension": ".py",
   "mimetype": "text/x-python",
   "name": "python",
   "nbconvert_exporter": "python",
   "pygments_lexer": "ipython3",
   "version": "3.6.3"
  },
  "nteract": {
   "version": "0.3.4"
  }
 },
 "nbformat": 4,
 "nbformat_minor": 4
}
