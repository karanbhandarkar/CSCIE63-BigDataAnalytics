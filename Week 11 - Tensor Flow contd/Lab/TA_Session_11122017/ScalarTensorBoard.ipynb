{
 "cells": [
  {
   "cell_type": "code",
   "execution_count": 1,
   "metadata": {
    "collapsed": true
   },
   "outputs": [],
   "source": [
    "## Create a vector of 50 numbers with a mean of 10 and standard deviation of 1\n",
    "## Define alpha as a constant. A placeholder is just like a variable, but the value is injected from the session\n",
    "## Initialize the previous average to zero\n",
    "## Loop through the data one-by-one to update the average"
   ]
  },
  {
   "cell_type": "code",
   "execution_count": 2,
   "metadata": {},
   "outputs": [
    {
     "name": "stdout",
     "output_type": "stream",
     "text": [
      "[ 10.43403023  10.64583684   9.5066082    9.12150874   9.68581133\n",
      "  10.50763123   8.75671853  10.29137974   9.07815721   9.92261937\n",
      "  11.32421179  11.67653141   9.46126779   9.36365089   9.44799248\n",
      "   7.1879819   11.15556021   9.89449393   9.55235174  10.29257643\n",
      "   9.54442042   7.63706713  10.40050278   9.09497158   9.87413603\n",
      "  10.31089379  10.05537042  10.35924025   9.12507712  10.25704779\n",
      "  10.6655958    9.3025529   11.64278554   9.89436323   8.93750644\n",
      "  10.17042516  10.34725627  10.52651276   9.87693966   9.69840512\n",
      "  10.44196035   9.97266229  10.91244007  11.57839845  10.81459454\n",
      "  10.63596242  11.47184566   9.98524316  10.20086829  10.64521685]\n",
      "mean : 10.0337436451\n"
     ]
    }
   ],
   "source": [
    "import tensorflow as tf\n",
    "import numpy as np\n",
    "\n",
    "raw_data = np.random.normal(10, 1, 50)\n",
    "print (raw_data)\n",
    "print(\"mean :\", np.mean(raw_data))"
   ]
  },
  {
   "cell_type": "code",
   "execution_count": 3,
   "metadata": {},
   "outputs": [
    {
     "name": "stdout",
     "output_type": "stream",
     "text": [
      "alpha:  Tensor(\"Const:0\", shape=(), dtype=float32)\n",
      "curr_value:  Tensor(\"Placeholder:0\", dtype=float32)\n",
      "update_avg:  Tensor(\"add:0\", dtype=float32)\n"
     ]
    }
   ],
   "source": [
    "alpha = tf.constant(0.05)\n",
    "print(\"alpha: \",alpha)\n",
    "\n",
    "curr_value = tf.placeholder(tf.float32) #placeholder is just like a variable, but the value is injected from the session\n",
    "print(\"curr_value: \",curr_value)\n",
    "\n",
    "prev_avg = tf.Variable(0.)\n",
    "update_avg = alpha * curr_value + (1 - alpha) * prev_avg\n",
    "print(\"update_avg: \",update_avg)"
   ]
  },
  {
   "cell_type": "code",
   "execution_count": 4,
   "metadata": {
    "collapsed": true
   },
   "outputs": [],
   "source": [
    "## Here's what we care to visualize. Create a summary node for the averages, Create a summary node for the values\n",
    "## Merge the summaries to make it easier to run together. Pass in the “logs” directory location to the writer"
   ]
  },
  {
   "cell_type": "code",
   "execution_count": 5,
   "metadata": {
    "collapsed": true
   },
   "outputs": [],
   "source": [
    "avg_hist = tf.summary.scalar(\"running_average\", update_avg)\n",
    "value_hist = tf.summary.scalar(\"incoming_values\", curr_value)\n",
    "\n",
    "merged = tf.summary.merge_all()\n",
    "writer = tf.summary.FileWriter(\"logs\")"
   ]
  },
  {
   "cell_type": "code",
   "execution_count": 6,
   "metadata": {
    "collapsed": true
   },
   "outputs": [],
   "source": [
    "## Time to compute the moving averages. Loop through the data one-by-one to update the average"
   ]
  },
  {
   "cell_type": "code",
   "execution_count": 7,
   "metadata": {},
   "outputs": [
    {
     "name": "stdout",
     "output_type": "stream",
     "text": [
      "Raw Data [i]: 0  - Curr Average: 0.521702\n",
      "Raw Data [i]: 1  - Curr Average: 1.02791\n",
      "Raw Data [i]: 2  - Curr Average: 1.45184\n",
      "Raw Data [i]: 3  - Curr Average: 1.83533\n",
      "Raw Data [i]: 4  - Curr Average: 2.22785\n",
      "Raw Data [i]: 5  - Curr Average: 2.64184\n",
      "Raw Data [i]: 6  - Curr Average: 2.94758\n",
      "Raw Data [i]: 7  - Curr Average: 3.31477\n",
      "Raw Data [i]: 8  - Curr Average: 3.60294\n",
      "Raw Data [i]: 9  - Curr Average: 3.91893\n",
      "Raw Data [i]: 10  - Curr Average: 4.28919\n",
      "Raw Data [i]: 11  - Curr Average: 4.65856\n",
      "Raw Data [i]: 12  - Curr Average: 4.89869\n",
      "Raw Data [i]: 13  - Curr Average: 5.12194\n",
      "Raw Data [i]: 14  - Curr Average: 5.33824\n",
      "Raw Data [i]: 15  - Curr Average: 5.43073\n",
      "Raw Data [i]: 16  - Curr Average: 5.71697\n",
      "Raw Data [i]: 17  - Curr Average: 5.92585\n",
      "Raw Data [i]: 18  - Curr Average: 6.10717\n",
      "Raw Data [i]: 19  - Curr Average: 6.31644\n",
      "Raw Data [i]: 20  - Curr Average: 6.47784\n",
      "Raw Data [i]: 21  - Curr Average: 6.5358\n",
      "Raw Data [i]: 22  - Curr Average: 6.72904\n",
      "Raw Data [i]: 23  - Curr Average: 6.84734\n",
      "Raw Data [i]: 24  - Curr Average: 6.99868\n",
      "Raw Data [i]: 25  - Curr Average: 7.16429\n",
      "Raw Data [i]: 26  - Curr Average: 7.30884\n",
      "Raw Data [i]: 27  - Curr Average: 7.46136\n",
      "Raw Data [i]: 28  - Curr Average: 7.54455\n",
      "Raw Data [i]: 29  - Curr Average: 7.68017\n",
      "Raw Data [i]: 30  - Curr Average: 7.82944\n",
      "Raw Data [i]: 31  - Curr Average: 7.9031\n",
      "Raw Data [i]: 32  - Curr Average: 8.09008\n",
      "Raw Data [i]: 33  - Curr Average: 8.1803\n",
      "Raw Data [i]: 34  - Curr Average: 8.21816\n",
      "Raw Data [i]: 35  - Curr Average: 8.31577\n",
      "Raw Data [i]: 36  - Curr Average: 8.41734\n",
      "Raw Data [i]: 37  - Curr Average: 8.5228\n",
      "Raw Data [i]: 38  - Curr Average: 8.59051\n",
      "Raw Data [i]: 39  - Curr Average: 8.6459\n",
      "Raw Data [i]: 40  - Curr Average: 8.73571\n",
      "Raw Data [i]: 41  - Curr Average: 8.79755\n",
      "Raw Data [i]: 42  - Curr Average: 8.9033\n",
      "Raw Data [i]: 43  - Curr Average: 9.03705\n",
      "Raw Data [i]: 44  - Curr Average: 9.12593\n",
      "Raw Data [i]: 45  - Curr Average: 9.20143\n",
      "Raw Data [i]: 46  - Curr Average: 9.31495\n",
      "Raw Data [i]: 47  - Curr Average: 9.34847\n",
      "Raw Data [i]: 48  - Curr Average: 9.39109\n",
      "Raw Data [i]: 49  - Curr Average: 9.45379\n"
     ]
    }
   ],
   "source": [
    "init = tf.global_variables_initializer()\n",
    "\n",
    "with tf.Session() as sess:\n",
    "    sess.run(init)\n",
    "    for i in range(len(raw_data)):\n",
    "        summary_str, curr_avg = sess.run([merged, update_avg], feed_dict={curr_value: raw_data[i]})\n",
    "        sess.run(tf.assign(prev_avg, curr_avg))\n",
    "        print(\"Raw Data [i]:\",i, \" - Curr Average:\",curr_avg)\n",
    "        writer.add_summary(summary_str, i)"
   ]
  },
  {
   "cell_type": "markdown",
   "metadata": {},
   "source": [
    "Check out the visualization by running TensorBoard from the terminal:\n",
    "\n",
    "    $ tensorboard --logdir=path/to/logs"
   ]
  },
  {
   "cell_type": "code",
   "execution_count": null,
   "metadata": {
    "collapsed": true
   },
   "outputs": [],
   "source": []
  }
 ],
 "metadata": {
  "kernelspec": {
   "display_name": "Python 3",
   "language": "python",
   "name": "python3"
  },
  "language_info": {
   "codemirror_mode": {
    "name": "ipython",
    "version": 3
   },
   "file_extension": ".py",
   "mimetype": "text/x-python",
   "name": "python",
   "nbconvert_exporter": "python",
   "pygments_lexer": "ipython3",
   "version": "3.6.3"
  }
 },
 "nbformat": 4,
 "nbformat_minor": 1
}
