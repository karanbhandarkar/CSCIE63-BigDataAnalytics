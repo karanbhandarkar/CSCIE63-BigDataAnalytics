{
 "cells": [
  {
   "cell_type": "code",
   "execution_count": 1,
   "metadata": {
    "collapsed": true
   },
   "outputs": [],
   "source": [
    "#Import NumPy to help generate initial raw data\n",
    "import numpy as np\n",
    "\n",
    "#Use matplotlib to visualize the data\n",
    "import matplotlib.pyplot as plt"
   ]
  },
  {
   "cell_type": "code",
   "execution_count": 2,
   "metadata": {},
   "outputs": [
    {
     "name": "stdout",
     "output_type": "stream",
     "text": [
      "[-1.         -0.95918367 -0.91836735 -0.87755102 -0.83673469 -0.79591837\n",
      " -0.75510204 -0.71428571 -0.67346939 -0.63265306 -0.59183673 -0.55102041\n",
      " -0.51020408 -0.46938776 -0.42857143 -0.3877551  -0.34693878 -0.30612245\n",
      " -0.26530612 -0.2244898  -0.18367347 -0.14285714 -0.10204082 -0.06122449\n",
      " -0.02040816  0.02040816  0.06122449  0.10204082  0.14285714  0.18367347\n",
      "  0.2244898   0.26530612  0.30612245  0.34693878  0.3877551   0.42857143\n",
      "  0.46938776  0.51020408  0.55102041  0.59183673  0.63265306  0.67346939\n",
      "  0.71428571  0.75510204  0.79591837  0.83673469  0.87755102  0.91836735\n",
      "  0.95918367  1.        ]\n",
      "\n",
      "[-1.74745364 -1.84882826 -1.43903057 -1.50547899 -2.27817084 -1.43106216\n",
      " -1.23965108 -1.85416579 -1.44888507 -1.33594721 -1.5292071  -1.15033459\n",
      " -1.25808472 -0.6102525  -0.59028176 -0.65134304 -1.18153079 -0.80223061\n",
      " -0.41446153 -1.23509452 -0.16344122 -0.46146917 -0.46379738 -0.07223284\n",
      " -0.23633439 -0.00987419  0.18343154  0.34892062 -0.23156576  0.33208994\n",
      "  0.58223762  0.36091002  0.53195215  1.12555523  0.14710891  0.83640223\n",
      "  1.11854939  0.58415064  1.21603766  0.71563829  1.86341677  1.49550468\n",
      "  1.43404812  1.23986984  1.3383292   1.94195387  2.02455269  1.96382583\n",
      "  1.8889102   1.92636623]\n",
      "\n"
     ]
    }
   ],
   "source": [
    "#The input values are 50 evenly spaced numbers between -1 and 1\n",
    "x_train = np.linspace(-1, 1, 50)\n",
    "print(x_train)\n",
    "print()\n",
    "\n",
    "#The output values are proportional to the input but with added noise\n",
    "y_train = 2 * x_train + np.random.randn(*x_train.shape) * 0.33\n",
    "print(y_train)\n",
    "print()"
   ]
  },
  {
   "cell_type": "code",
   "execution_count": 3,
   "metadata": {},
   "outputs": [
    {
     "data": {
      "image/png": "[encoded data removed]",
      "text/plain": [
       "<matplotlib.figure.Figure at 0x1d221097e10>"
      ]
     },
     "metadata": {},
     "output_type": "display_data"
    }
   ],
   "source": [
    "#Use matplotlib’s function to generate a scatter plot of the data\n",
    "plt.scatter(x_train, y_train)\n",
    "plt.show()"
   ]
  }
 ],
 "metadata": {
  "kernelspec": {
   "display_name": "Python 3",
   "language": "python",
   "name": "python3"
  },
  "language_info": {
   "codemirror_mode": {
    "name": "ipython",
    "version": 3
   },
   "file_extension": ".py",
   "mimetype": "text/x-python",
   "name": "python",
   "nbconvert_exporter": "python",
   "pygments_lexer": "ipython3",
   "version": "3.6.3"
  }
 },
 "nbformat": 4,
 "nbformat_minor": 2
}
