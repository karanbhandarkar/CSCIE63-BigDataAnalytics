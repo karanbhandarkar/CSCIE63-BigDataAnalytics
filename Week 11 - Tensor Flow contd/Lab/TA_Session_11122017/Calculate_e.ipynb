{
 "cells": [
  {
   "cell_type": "code",
   "execution_count": 1,
   "metadata": {
    "collapsed": true
   },
   "outputs": [],
   "source": [
    "import numpy as np\n",
    "import tensorflow as tf"
   ]
  },
  {
   "cell_type": "code",
   "execution_count": 2,
   "metadata": {},
   "outputs": [
    {
     "name": "stdout",
     "output_type": "stream",
     "text": [
      "After 0 iterations: e = 1.00000000\n",
      "After 1 iterations: e = 2.00000000\n",
      "After 2 iterations: e = 2.50000000\n",
      "After 3 iterations: e = 2.66666675\n",
      "After 4 iterations: e = 2.70833349\n",
      "After 5 iterations: e = 2.71666694\n",
      "After 6 iterations: e = 2.71805573\n",
      "After 7 iterations: e = 2.71825409\n",
      "After 8 iterations: e = 2.71827888\n",
      "After 9 iterations: e = 2.71828175\n",
      "After 10 iterations: e = 2.71828198\n",
      "After 11 iterations: e = 2.71828198\n",
      "After 12 iterations: e = 2.71828198\n",
      "After 13 iterations: e = 2.71828198\n",
      "After 14 iterations: e = 2.71828198\n"
     ]
    }
   ],
   "source": [
    "with tf.Graph().as_default() as g:\n",
    "        e = tf.Variable(0.0, name=\"e\")\n",
    "        ind = tf.placeholder(tf.float32, shape=(), name=\"ind\")\n",
    "        term = tf.pow(1.0, ind) / tf.exp(tf.lgamma(ind + 1))\n",
    "        assign_op = tf.assign(e, e + term)\n",
    "\n",
    "        init = tf.global_variables_initializer()\n",
    "        with tf.Session() as sess:\n",
    "            sess.run(init)\n",
    "            prev = sess.run(e)             # last computed value for e\n",
    "            for i in range(15):\n",
    "                sess.run(assign_op, feed_dict={ind: i})\n",
    "                new_e = sess.run(e)\n",
    "                print( \"After %d iterations: e = %.8f\" % (i, new_e) )\n",
    "                prev = new_e               # otherwise, update previous "
   ]
  },
  {
   "cell_type": "code",
   "execution_count": 3,
   "metadata": {
    "collapsed": true
   },
   "outputs": [],
   "source": [
    "file_writer = tf.summary.FileWriter(\"Calculatee\", sess.graph)\n",
    "file_writer.close()\n",
    "sess.close()"
   ]
  }
 ],
 "metadata": {
  "kernelspec": {
   "display_name": "Python 3",
   "language": "python",
   "name": "python3"
  },
  "language_info": {
   "codemirror_mode": {
    "name": "ipython",
    "version": 3
   },
   "file_extension": ".py",
   "mimetype": "text/x-python",
   "name": "python",
   "nbconvert_exporter": "python",
   "pygments_lexer": "ipython3",
   "version": "3.6.3"
  }
 },
 "nbformat": 4,
 "nbformat_minor": 2
}
