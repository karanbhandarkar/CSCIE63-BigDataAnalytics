{
 "cells": [
  {
   "cell_type": "markdown",
   "metadata": {},
   "source": [
    "## Saving variables"
   ]
  },
  {
   "cell_type": "markdown",
   "metadata": {},
   "source": [
    "Create an interactive session and initialize a variable:"
   ]
  },
  {
   "cell_type": "code",
   "execution_count": 49,
   "metadata": {
    "collapsed": true
   },
   "outputs": [],
   "source": [
    "import tensorflow as tf\n",
    "sess = tf.InteractiveSession()\n",
    "\n",
    "raw_data = [1., 2., 8., -1., 0., 5.5, 6., 13]\n",
    "spikes = tf.Variable([False] * len(raw_data), name='spikes')\n",
    "spikes.initializer.run()"
   ]
  },
  {
   "cell_type": "code",
   "execution_count": 50,
   "metadata": {
    "collapsed": true
   },
   "outputs": [],
   "source": [
    "## The saver op will enable saving and restoring."
   ]
  },
  {
   "cell_type": "code",
   "execution_count": 51,
   "metadata": {
    "collapsed": true
   },
   "outputs": [],
   "source": [
    "## Loop through the data and update the spike variable when there is a significant increase:\n",
    "## The saver op will enable saving and restoring variables. If no dictionary is passed into the constructor, then the\n",
    "## saving of operators of all variables in the current program.\n",
    "## Update the value of spikes by using the tf.assign function\n",
    "## Don’t forget to actually evaluate the updater, otherwise spikes will not be updated"
   ]
  },
  {
   "cell_type": "code",
   "execution_count": 52,
   "metadata": {
    "collapsed": true
   },
   "outputs": [],
   "source": [
    "saver = tf.train.Saver([spikes])"
   ]
  },
  {
   "cell_type": "code",
   "execution_count": 53,
   "metadata": {},
   "outputs": [
    {
     "name": "stdout",
     "output_type": "stream",
     "text": [
      "do not update 1.0\n",
      "update 6.0\n",
      "do not update -9.0\n",
      "do not update 1.0\n",
      "update 5.5\n",
      "do not update 0.5\n",
      "update 7.0\n"
     ]
    }
   ],
   "source": [
    "for i in range(1, len(raw_data)):\n",
    "    if raw_data[i] - raw_data[i-1] > 5:\n",
    "        print(\"update\", (raw_data[i] - raw_data[i-1]))\n",
    "        spikes_val = spikes.eval()\n",
    "        spikes_val[i] = True\n",
    "        update = tf.assign(spikes, spikes_val) #Update the value of spikes by using the tf.assign function\n",
    "        update.eval()\n",
    "    else:\n",
    "        print(\"do not update\", (raw_data[i] - raw_data[i-1]))\n",
    "        "
   ]
  },
  {
   "cell_type": "code",
   "execution_count": 54,
   "metadata": {
    "collapsed": true
   },
   "outputs": [],
   "source": [
    "## Now, save your variable to disk and retrieve from disk"
   ]
  },
  {
   "cell_type": "code",
   "execution_count": 55,
   "metadata": {},
   "outputs": [
    {
     "name": "stdout",
     "output_type": "stream",
     "text": [
      "[False False  True False False  True False  True]\n",
      "Model saved in file: temp/model.ckpt\n",
      "\n",
      "INFO:tensorflow:Restoring parameters from temp/model.ckpt\n",
      "Model restored.\n",
      "[False False  True False False  True False  True]\n"
     ]
    }
   ],
   "source": [
    "#save_path = saver.save(sess,\"C:\\Clases\\CSCI E-63 Big Data - Fall 2017\\Week10\\Claudiolab\\spikes\\spikes.ckpt\")\n",
    "print(spikes.eval())\n",
    "save_path = saver.save(sess,\"temp/model.ckpt\")\n",
    "print(\"Model saved in file: %s\" % save_path) #good practice\n",
    "print()\n",
    "\n",
    "saver.restore(sess, \"temp/model.ckpt\")\n",
    "print(\"Model restored.\")\n",
    "print(spikes.eval())"
   ]
  },
  {
   "cell_type": "code",
   "execution_count": 56,
   "metadata": {
    "collapsed": true
   },
   "outputs": [],
   "source": [
    "sess.close()"
   ]
  }
 ],
 "metadata": {
  "kernelspec": {
   "display_name": "Python 3",
   "language": "python",
   "name": "python3"
  },
  "language_info": {
   "codemirror_mode": {
    "name": "ipython",
    "version": 3
   },
   "file_extension": ".py",
   "mimetype": "text/x-python",
   "name": "python",
   "nbconvert_exporter": "python",
   "pygments_lexer": "ipython3",
   "version": "3.6.3"
  }
 },
 "nbformat": 4,
 "nbformat_minor": 1
}
