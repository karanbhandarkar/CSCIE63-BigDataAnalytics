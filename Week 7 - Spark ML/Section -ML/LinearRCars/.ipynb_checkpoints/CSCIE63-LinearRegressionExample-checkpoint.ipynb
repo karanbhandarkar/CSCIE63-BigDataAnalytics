{
 "cells": [
  {
   "cell_type": "markdown",
   "metadata": {},
   "source": [
    "# CSCIE63 - Linear Regression Example\n",
    "\n",
    "### Our Task - Build a Linear Regression Model to Predict HorsePower given Displacement"
   ]
  },
  {
   "cell_type": "raw",
   "metadata": {},
   "source": [
    "Attributes\n",
    "\n",
    "1.  mpg:           continuous\n",
    "2.  cylinders:     multi-valued discrete\n",
    "3.  displacement:  continuous\n",
    "4.  horsepower:    continuous\n",
    "5.  weight:        continuous\n",
    "6.  acceleration:  continuous\n",
    "7.  model year:    multi-valued discrete\n",
    "8.  origin:        multi-valued discrete\n",
    "9.  car name:      string (unique for each instance)\n",
    "\n",
    "Displacement -  feature and horsepower as the target variable \n",
    "\n"
   ]
  },
  {
   "cell_type": "code",
   "execution_count": null,
   "metadata": {
    "collapsed": false
   },
   "outputs": [],
   "source": [
    "import os\n",
    "import pyspark.mllib\n",
    "import numpy as np\n",
    "import matplotlib.pyplot as plt\n",
    "import seaborn as sns\n",
    "import pyspark\n",
    "\n",
    "from pyspark import SparkContext, SparkConf\n",
    "from pyspark.sql import Row\n",
    "from IPython.display import display, HTML\n",
    "from pyspark.mllib.regression import LabeledPoint\n",
    "from pyspark.mllib.regression import LinearRegressionWithSGD \n",
    "from pyspark.sql.functions import *\n",
    "from pyspark.sql import SQLContext"
   ]
  },
  {
   "cell_type": "code",
   "execution_count": null,
   "metadata": {
    "collapsed": false
   },
   "outputs": [],
   "source": [
    "# Setup your Spark context \n",
    "conf = (SparkConf()\n",
    "         .setMaster(\"local[*]\")\n",
    "         .setAppName(\"e63CarsLinear\")\n",
    "         .set(\"spark.executor.memory\", \"2g\"))\n",
    "\n",
    "# Use get or create here so that if the cell is evaluated multiple times we don't get multiple SparkContexts.\n",
    "sc = SparkContext.getOrCreate(conf)\n",
    "sqlContext = SQLContext(sc)"
   ]
  },
  {
   "cell_type": "code",
   "execution_count": null,
   "metadata": {
    "collapsed": false
   },
   "outputs": [],
   "source": [
    "# Load all your Data \n",
    "\n",
    "auto = sc.textFile(\"auto_mpg_original.csv\", use_unicode=False)\n",
    "autordd = auto.map(lambda line: line.split(\",\"))\n",
    "num_data = autordd.count()\n",
    "print ('Total Count:' + str(num_data))"
   ]
  },
  {
   "cell_type": "code",
   "execution_count": null,
   "metadata": {
    "collapsed": true
   },
   "outputs": [],
   "source": [
    "# Map the RDD Colums in prep to clean up as well as do preliminary Data Analysis \n",
    "\n",
    "mappedautordd = autordd.map(lambda line: Row(mpg=line[0],cylinders=line[1], displacement=line[2], horsepower=line[3], weight=line[4], acceleration=line[5], my=line[6],origin=line[7],name=line[8]))"
   ]
  },
  {
   "cell_type": "code",
   "execution_count": null,
   "metadata": {
    "collapsed": false
   },
   "outputs": [],
   "source": [
    "mappedautordd.take(5)"
   ]
  },
  {
   "cell_type": "code",
   "execution_count": null,
   "metadata": {
    "collapsed": false
   },
   "outputs": [],
   "source": [
    "# Clean up our Data remove the N/A\n",
    "\n",
    "df = mappedautordd.toDF()\n",
    "df = df.filter(df['mpg'] > 0)\n",
    "df = df.filter(df['horsepower'] > 0)\n",
    "num_data = df.count()\n",
    "print ('Total Count:' + str(num_data))\n",
    "df.take(5)"
   ]
  },
  {
   "cell_type": "code",
   "execution_count": null,
   "metadata": {
    "collapsed": false
   },
   "outputs": [],
   "source": [
    "#Summary of our Input Data\n",
    "\n",
    "df2 = df.select(df.displacement.cast('float'),df.horsepower.cast('float')) \n",
    "df2.take(2)\n",
    "df2.describe('displacement', 'horsepower').show()\n",
    "myvar=df2.collect()"
   ]
  },
  {
   "cell_type": "code",
   "execution_count": null,
   "metadata": {
    "collapsed": false,
    "scrolled": true
   },
   "outputs": [],
   "source": [
    "# Look at the distribution of our Data \n",
    "\n",
    "%pylab inline\n",
    "targets = df.select(df.horsepower.cast('float')).rdd.flatMap(lambda x: x).collect()\n",
    "hist(targets, bins=40, color='lightblue', normed=True)\n",
    "fig = matplotlib.pyplot.gcf()\n",
    "fig.set_size_inches(8, 5)"
   ]
  },
  {
   "cell_type": "code",
   "execution_count": null,
   "metadata": {
    "collapsed": false
   },
   "outputs": [],
   "source": [
    "# Setup some functions we could use later . \n",
    "# Alternative is to use Spark builtin RegressionMetrics\n",
    "\n",
    "def squared_error(actual, pred): \n",
    "    return (pred - actual)**2\n",
    "def abs_error(actual, pred): \n",
    "    return np.abs(pred - actual)\n",
    "def squared_log_error(pred, actual):\n",
    "    return (np.log(pred + 1) - np.log(actual + 1))**2"
   ]
  },
  {
   "cell_type": "code",
   "execution_count": null,
   "metadata": {
    "collapsed": false
   },
   "outputs": [],
   "source": [
    "# Create our Training and Test Data \n",
    "\n",
    "# LabeledPoint\n",
    "transformed = df2.rdd.map(lambda r : LabeledPoint(r[0],r[1:])) \n",
    "\n",
    "print \"---------------------------------\"\n",
    "print \"How does Labeled Point Look like \"\n",
    "print \"---------------------------------\"\n",
    "print \" \"\n",
    "print transformed.take(5)\n",
    "print \" \"\n",
    "# Split our Data \n",
    "\n",
    "print \"---------------------------------\"\n",
    "print \"Splitting our Data\"\n",
    "print \"---------------------------------\"\n",
    "\n",
    "\n",
    "trainingData, testingData = transformed.randomSplit([.8,.2],seed=1234)\n",
    "train_size = trainingData.count()\n",
    "test_size = testingData.count()\n",
    "print \"Training data size: %d\" % train_size\n",
    "print \"Test data size: %d\" % test_size\n",
    "print \"Total data size: %d \" % num_data\n",
    "print \"Train + Test size : %d\" % (train_size + test_size)\n",
    "trainingData = trainingData.cache()\n",
    "testingData = testingData.cache()\n",
    "\n",
    "print\"\"\n",
    "print\"---------------------\"\n",
    "print\" VIEW OUR TESTDATA \"\n",
    "print\"---------------------\"\n",
    "\n",
    "\n",
    "print testingData.take(5)"
   ]
  },
  {
   "cell_type": "code",
   "execution_count": null,
   "metadata": {
    "collapsed": false
   },
   "outputs": [],
   "source": [
    "# We train our Model now \n",
    "# Please note use LinearRegressionWithSGD ONLY \n",
    "\n",
    "linearModel = LinearRegressionWithSGD.train(trainingData,iterations=1000,step=.0001)\n",
    "\n",
    "print(\"Linear Model Info:\" +str (linearModel))\n",
    "\n",
    "# We validate our Model against training Data\n",
    "print \"---------------------------------\"\n",
    "print \"Predictions\"\n",
    "print \"---------------------------------\"\n",
    "print \"\"\n",
    "\n",
    "true_vs_predicted = testingData.map(lambda p: (p.label, linearModel.predict(p.features)))\n",
    "print (\"Linear Model predictions: \" + str(true_vs_predicted.take(10))) \n",
    "print \"\"\n",
    "# Gather Metrics \n",
    "mse = true_vs_predicted.map(lambda (t, p): squared_error(t, p)).mean() \n",
    "mae = true_vs_predicted.map(lambda (t, p): abs_error(t, p)).mean() \n",
    "rmsle=np.sqrt(true_vs_predicted.map(lambda(t,p):squared_log_error(t,p)).mean())\n",
    "\n",
    "\n",
    "print \"---------------------------------\"\n",
    "print \"Model Metrics\"\n",
    "print \"---------------------------------\"\n",
    "print \"\"\n",
    "\n",
    "print (\"Linear Model - Mean Squared Error: %2.4f\" % mse)\n",
    "print (\"Linear Model - Mean Absolute Error: %2.4f\" % mae)\n",
    "print (\"Linear Model - Root Mean Squared Log Error: %2.4f\" % rmsle)\n",
    "\n"
   ]
  },
  {
   "cell_type": "code",
   "execution_count": null,
   "metadata": {
    "collapsed": false
   },
   "outputs": [],
   "source": [
    "tvp = testingData.map(lambda p: (float(p.label), float(linearModel.predict(p.features)), float(p.features[0]))).toDF().toPandas()\n",
    "tvp.columns = ['horsepower', 'predicted horsepower', 'displacement']\n",
    "\n",
    "# Plot for 20% of Train Data\n",
    "\n",
    "plt.figure(1, figsize=(10,6))\n",
    "plt.scatter(tvp['displacement'], tvp['horsepower'], c='b', label='hp actual')\n",
    "plt.plot(tvp['displacement'], tvp['predicted horsepower'], c='r',label='predicted hp')\n",
    "plt.scatter(tvp['displacement'], tvp['predicted horsepower'], c='r', label='predicted hp values')\n",
    "plt.xlabel('displacement')\n",
    "plt.ylabel('horsepower')\n",
    "plt.title('Horsepower - Actual vs. Predictions 20% Test Data')\n",
    "plt.legend()\n",
    "plt.show()"
   ]
  },
  {
   "cell_type": "code",
   "execution_count": null,
   "metadata": {
    "collapsed": false
   },
   "outputs": [],
   "source": [
    "# Plot for 20% of All Data\n",
    "\n",
    "plt.figure(2, figsize=(12,8))\n",
    "tvp2 = trainingData.map(lambda p: (float(p.label), float(linearModel.predict(p.features)), float(p.features[0]))).toDF().toPandas() \n",
    "tvp2.columns = ['horsepower', 'predicted horsepower', 'displacement'] \n",
    "plt.scatter(tvp['displacement'], tvp['horsepower'], c='b', label='hp .2 sample data')\n",
    "plt.scatter(tvp2['displacement'], tvp2['horsepower'], c='g', label='hp . 8 training data')\n",
    "plt.plot(tvp2['displacement'], tvp2['predicted horsepower'], c='r', label='predicted hp')\n",
    "plt.scatter(tvp['displacement'], tvp['predicted horsepower'], c='m', label='predicted hp values')\n",
    "plt.xlabel('displacement')\n",
    "plt.ylabel('horsepower')\n",
    "plt.legend()\n",
    "plt.title('Horsepower - Actual vs. Predictions - All Data')\n",
    "plt.show()"
   ]
  },
  {
   "cell_type": "code",
   "execution_count": null,
   "metadata": {
    "collapsed": true
   },
   "outputs": [],
   "source": []
  }
 ],
 "metadata": {
  "kernelspec": {
   "display_name": "Python 2",
   "language": "python",
   "name": "python2"
  },
  "language_info": {
   "codemirror_mode": {
    "name": "ipython",
    "version": 2
   },
   "file_extension": ".py",
   "mimetype": "text/x-python",
   "name": "python",
   "nbconvert_exporter": "python",
   "pygments_lexer": "ipython2",
   "version": "2.7.13"
  }
 },
 "nbformat": 4,
 "nbformat_minor": 2
}
